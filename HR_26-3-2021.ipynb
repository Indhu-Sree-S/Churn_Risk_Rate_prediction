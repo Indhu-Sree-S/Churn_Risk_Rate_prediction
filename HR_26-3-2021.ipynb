{
 "cells": [
  {
   "cell_type": "code",
   "execution_count": 1,
   "metadata": {},
   "outputs": [],
   "source": [
    "import pandas as pd\n",
    "import numpy as np\n",
    "from sklearn.model_selection import train_test_split as TTS\n",
    "from sklearn import preprocessing\n",
    "from sklearn.preprocessing import StandardScaler as SS\n",
    "import matplotlib.pyplot as plt\n",
    "import seaborn as sns\n",
    "from scipy.stats import zscore\n",
    "from sklearn.svm import SVC \n",
    "from sklearn.preprocessing import MinMaxScaler as MMS\n",
    "from sklearn.preprocessing import LabelEncoder as LE\n",
    "from sklearn.metrics import accuracy_score as a_s, precision_score as p_s, confusion_matrix as c_m, classification_report as c_r\n",
    "from sklearn.linear_model import LogisticRegression as LR\n",
    "from sklearn.neighbors import KNeighborsClassifier as KNN\n",
    "from sklearn.model_selection import cross_val_score as CVS\n",
    "from sklearn.metrics import roc_auc_score as RAS\n",
    "from sklearn.naive_bayes import GaussianNB as NB\n",
    "from sklearn import tree \n",
    "from sklearn.ensemble import RandomForestClassifier as RFC"
   ]
  },
  {
   "cell_type": "code",
   "execution_count": 2,
   "metadata": {},
   "outputs": [],
   "source": [
    "df = pd.read_csv(\"train.csv\")\n"
   ]
  },
  {
   "cell_type": "code",
   "execution_count": 3,
   "metadata": {},
   "outputs": [
    {
     "data": {
      "text/html": [
       "<div>\n",
       "<style scoped>\n",
       "    .dataframe tbody tr th:only-of-type {\n",
       "        vertical-align: middle;\n",
       "    }\n",
       "\n",
       "    .dataframe tbody tr th {\n",
       "        vertical-align: top;\n",
       "    }\n",
       "\n",
       "    .dataframe thead th {\n",
       "        text-align: right;\n",
       "    }\n",
       "</style>\n",
       "<table border=\"1\" class=\"dataframe\">\n",
       "  <thead>\n",
       "    <tr style=\"text-align: right;\">\n",
       "      <th></th>\n",
       "      <th>customer_id</th>\n",
       "      <th>Name</th>\n",
       "      <th>age</th>\n",
       "      <th>gender</th>\n",
       "      <th>security_no</th>\n",
       "      <th>region_category</th>\n",
       "      <th>membership_category</th>\n",
       "      <th>joining_date</th>\n",
       "      <th>joined_through_referral</th>\n",
       "      <th>referral_id</th>\n",
       "      <th>...</th>\n",
       "      <th>avg_time_spent</th>\n",
       "      <th>avg_transaction_value</th>\n",
       "      <th>avg_frequency_login_days</th>\n",
       "      <th>points_in_wallet</th>\n",
       "      <th>used_special_discount</th>\n",
       "      <th>offer_application_preference</th>\n",
       "      <th>past_complaint</th>\n",
       "      <th>complaint_status</th>\n",
       "      <th>feedback</th>\n",
       "      <th>churn_risk_score</th>\n",
       "    </tr>\n",
       "  </thead>\n",
       "  <tbody>\n",
       "    <tr>\n",
       "      <th>0</th>\n",
       "      <td>fffe4300490044003600300030003800</td>\n",
       "      <td>Pattie Morrisey</td>\n",
       "      <td>18</td>\n",
       "      <td>F</td>\n",
       "      <td>XW0DQ7H</td>\n",
       "      <td>Village</td>\n",
       "      <td>Platinum Membership</td>\n",
       "      <td>2017-08-17</td>\n",
       "      <td>No</td>\n",
       "      <td>xxxxxxxx</td>\n",
       "      <td>...</td>\n",
       "      <td>300.63</td>\n",
       "      <td>53005.25</td>\n",
       "      <td>17.0</td>\n",
       "      <td>781.75</td>\n",
       "      <td>Yes</td>\n",
       "      <td>Yes</td>\n",
       "      <td>No</td>\n",
       "      <td>Not Applicable</td>\n",
       "      <td>Products always in Stock</td>\n",
       "      <td>2</td>\n",
       "    </tr>\n",
       "    <tr>\n",
       "      <th>1</th>\n",
       "      <td>fffe43004900440032003100300035003700</td>\n",
       "      <td>Traci Peery</td>\n",
       "      <td>32</td>\n",
       "      <td>F</td>\n",
       "      <td>5K0N3X1</td>\n",
       "      <td>City</td>\n",
       "      <td>Premium Membership</td>\n",
       "      <td>2017-08-28</td>\n",
       "      <td>?</td>\n",
       "      <td>CID21329</td>\n",
       "      <td>...</td>\n",
       "      <td>306.34</td>\n",
       "      <td>12838.38</td>\n",
       "      <td>10.0</td>\n",
       "      <td>NaN</td>\n",
       "      <td>Yes</td>\n",
       "      <td>No</td>\n",
       "      <td>Yes</td>\n",
       "      <td>Solved</td>\n",
       "      <td>Quality Customer Care</td>\n",
       "      <td>1</td>\n",
       "    </tr>\n",
       "    <tr>\n",
       "      <th>2</th>\n",
       "      <td>fffe4300490044003100390032003600</td>\n",
       "      <td>Merideth Mcmeen</td>\n",
       "      <td>44</td>\n",
       "      <td>F</td>\n",
       "      <td>1F2TCL3</td>\n",
       "      <td>Town</td>\n",
       "      <td>No Membership</td>\n",
       "      <td>2016-11-11</td>\n",
       "      <td>Yes</td>\n",
       "      <td>CID12313</td>\n",
       "      <td>...</td>\n",
       "      <td>516.16</td>\n",
       "      <td>21027.00</td>\n",
       "      <td>22.0</td>\n",
       "      <td>500.69</td>\n",
       "      <td>No</td>\n",
       "      <td>Yes</td>\n",
       "      <td>Yes</td>\n",
       "      <td>Solved in Follow-up</td>\n",
       "      <td>Poor Website</td>\n",
       "      <td>5</td>\n",
       "    </tr>\n",
       "    <tr>\n",
       "      <th>3</th>\n",
       "      <td>fffe43004900440036003000330031003600</td>\n",
       "      <td>Eufemia Cardwell</td>\n",
       "      <td>37</td>\n",
       "      <td>M</td>\n",
       "      <td>VJGJ33N</td>\n",
       "      <td>City</td>\n",
       "      <td>No Membership</td>\n",
       "      <td>2016-10-29</td>\n",
       "      <td>Yes</td>\n",
       "      <td>CID3793</td>\n",
       "      <td>...</td>\n",
       "      <td>53.27</td>\n",
       "      <td>25239.56</td>\n",
       "      <td>6.0</td>\n",
       "      <td>567.66</td>\n",
       "      <td>No</td>\n",
       "      <td>Yes</td>\n",
       "      <td>Yes</td>\n",
       "      <td>Unsolved</td>\n",
       "      <td>Poor Website</td>\n",
       "      <td>5</td>\n",
       "    </tr>\n",
       "    <tr>\n",
       "      <th>4</th>\n",
       "      <td>fffe43004900440031003900350030003600</td>\n",
       "      <td>Meghan Kosak</td>\n",
       "      <td>31</td>\n",
       "      <td>F</td>\n",
       "      <td>SVZXCWB</td>\n",
       "      <td>City</td>\n",
       "      <td>No Membership</td>\n",
       "      <td>2017-09-12</td>\n",
       "      <td>No</td>\n",
       "      <td>xxxxxxxx</td>\n",
       "      <td>...</td>\n",
       "      <td>113.13</td>\n",
       "      <td>24483.66</td>\n",
       "      <td>16.0</td>\n",
       "      <td>663.06</td>\n",
       "      <td>No</td>\n",
       "      <td>Yes</td>\n",
       "      <td>Yes</td>\n",
       "      <td>Solved</td>\n",
       "      <td>Poor Website</td>\n",
       "      <td>5</td>\n",
       "    </tr>\n",
       "  </tbody>\n",
       "</table>\n",
       "<p>5 rows × 25 columns</p>\n",
       "</div>"
      ],
      "text/plain": [
       "                            customer_id              Name  age gender  \\\n",
       "0      fffe4300490044003600300030003800   Pattie Morrisey   18      F   \n",
       "1  fffe43004900440032003100300035003700       Traci Peery   32      F   \n",
       "2      fffe4300490044003100390032003600   Merideth Mcmeen   44      F   \n",
       "3  fffe43004900440036003000330031003600  Eufemia Cardwell   37      M   \n",
       "4  fffe43004900440031003900350030003600      Meghan Kosak   31      F   \n",
       "\n",
       "  security_no region_category  membership_category joining_date  \\\n",
       "0     XW0DQ7H         Village  Platinum Membership   2017-08-17   \n",
       "1     5K0N3X1            City   Premium Membership   2017-08-28   \n",
       "2     1F2TCL3            Town        No Membership   2016-11-11   \n",
       "3     VJGJ33N            City        No Membership   2016-10-29   \n",
       "4     SVZXCWB            City        No Membership   2017-09-12   \n",
       "\n",
       "  joined_through_referral referral_id  ... avg_time_spent  \\\n",
       "0                      No    xxxxxxxx  ...         300.63   \n",
       "1                       ?    CID21329  ...         306.34   \n",
       "2                     Yes    CID12313  ...         516.16   \n",
       "3                     Yes     CID3793  ...          53.27   \n",
       "4                      No    xxxxxxxx  ...         113.13   \n",
       "\n",
       "  avg_transaction_value avg_frequency_login_days points_in_wallet  \\\n",
       "0              53005.25                     17.0           781.75   \n",
       "1              12838.38                     10.0              NaN   \n",
       "2              21027.00                     22.0           500.69   \n",
       "3              25239.56                      6.0           567.66   \n",
       "4              24483.66                     16.0           663.06   \n",
       "\n",
       "   used_special_discount  offer_application_preference  past_complaint  \\\n",
       "0                    Yes                           Yes              No   \n",
       "1                    Yes                            No             Yes   \n",
       "2                     No                           Yes             Yes   \n",
       "3                     No                           Yes             Yes   \n",
       "4                     No                           Yes             Yes   \n",
       "\n",
       "      complaint_status                  feedback churn_risk_score  \n",
       "0       Not Applicable  Products always in Stock                2  \n",
       "1               Solved     Quality Customer Care                1  \n",
       "2  Solved in Follow-up              Poor Website                5  \n",
       "3             Unsolved              Poor Website                5  \n",
       "4               Solved              Poor Website                5  \n",
       "\n",
       "[5 rows x 25 columns]"
      ]
     },
     "execution_count": 3,
     "metadata": {},
     "output_type": "execute_result"
    }
   ],
   "source": [
    "df.head()"
   ]
  },
  {
   "cell_type": "code",
   "execution_count": 4,
   "metadata": {},
   "outputs": [
    {
     "data": {
      "text/html": [
       "<div>\n",
       "<style scoped>\n",
       "    .dataframe tbody tr th:only-of-type {\n",
       "        vertical-align: middle;\n",
       "    }\n",
       "\n",
       "    .dataframe tbody tr th {\n",
       "        vertical-align: top;\n",
       "    }\n",
       "\n",
       "    .dataframe thead th {\n",
       "        text-align: right;\n",
       "    }\n",
       "</style>\n",
       "<table border=\"1\" class=\"dataframe\">\n",
       "  <thead>\n",
       "    <tr style=\"text-align: right;\">\n",
       "      <th></th>\n",
       "      <th>age</th>\n",
       "      <th>days_since_last_login</th>\n",
       "      <th>avg_time_spent</th>\n",
       "      <th>avg_transaction_value</th>\n",
       "      <th>points_in_wallet</th>\n",
       "      <th>churn_risk_score</th>\n",
       "    </tr>\n",
       "  </thead>\n",
       "  <tbody>\n",
       "    <tr>\n",
       "      <th>count</th>\n",
       "      <td>36992.000000</td>\n",
       "      <td>36992.000000</td>\n",
       "      <td>36992.000000</td>\n",
       "      <td>36992.000000</td>\n",
       "      <td>33549.000000</td>\n",
       "      <td>36992.000000</td>\n",
       "    </tr>\n",
       "    <tr>\n",
       "      <th>mean</th>\n",
       "      <td>37.118161</td>\n",
       "      <td>-41.915576</td>\n",
       "      <td>243.472334</td>\n",
       "      <td>29271.194003</td>\n",
       "      <td>686.882199</td>\n",
       "      <td>3.463397</td>\n",
       "    </tr>\n",
       "    <tr>\n",
       "      <th>std</th>\n",
       "      <td>15.867412</td>\n",
       "      <td>228.819900</td>\n",
       "      <td>398.289149</td>\n",
       "      <td>19444.806226</td>\n",
       "      <td>194.063624</td>\n",
       "      <td>1.409661</td>\n",
       "    </tr>\n",
       "    <tr>\n",
       "      <th>min</th>\n",
       "      <td>10.000000</td>\n",
       "      <td>-999.000000</td>\n",
       "      <td>-2814.109110</td>\n",
       "      <td>800.460000</td>\n",
       "      <td>-760.661236</td>\n",
       "      <td>-1.000000</td>\n",
       "    </tr>\n",
       "    <tr>\n",
       "      <th>25%</th>\n",
       "      <td>23.000000</td>\n",
       "      <td>8.000000</td>\n",
       "      <td>60.102500</td>\n",
       "      <td>14177.540000</td>\n",
       "      <td>616.150000</td>\n",
       "      <td>3.000000</td>\n",
       "    </tr>\n",
       "    <tr>\n",
       "      <th>50%</th>\n",
       "      <td>37.000000</td>\n",
       "      <td>12.000000</td>\n",
       "      <td>161.765000</td>\n",
       "      <td>27554.485000</td>\n",
       "      <td>697.620000</td>\n",
       "      <td>4.000000</td>\n",
       "    </tr>\n",
       "    <tr>\n",
       "      <th>75%</th>\n",
       "      <td>51.000000</td>\n",
       "      <td>16.000000</td>\n",
       "      <td>356.515000</td>\n",
       "      <td>40855.110000</td>\n",
       "      <td>763.950000</td>\n",
       "      <td>5.000000</td>\n",
       "    </tr>\n",
       "    <tr>\n",
       "      <th>max</th>\n",
       "      <td>64.000000</td>\n",
       "      <td>26.000000</td>\n",
       "      <td>3235.578521</td>\n",
       "      <td>99914.050000</td>\n",
       "      <td>2069.069761</td>\n",
       "      <td>5.000000</td>\n",
       "    </tr>\n",
       "  </tbody>\n",
       "</table>\n",
       "</div>"
      ],
      "text/plain": [
       "                age  days_since_last_login  avg_time_spent  \\\n",
       "count  36992.000000           36992.000000    36992.000000   \n",
       "mean      37.118161             -41.915576      243.472334   \n",
       "std       15.867412             228.819900      398.289149   \n",
       "min       10.000000            -999.000000    -2814.109110   \n",
       "25%       23.000000               8.000000       60.102500   \n",
       "50%       37.000000              12.000000      161.765000   \n",
       "75%       51.000000              16.000000      356.515000   \n",
       "max       64.000000              26.000000     3235.578521   \n",
       "\n",
       "       avg_transaction_value  points_in_wallet  churn_risk_score  \n",
       "count           36992.000000      33549.000000      36992.000000  \n",
       "mean            29271.194003        686.882199          3.463397  \n",
       "std             19444.806226        194.063624          1.409661  \n",
       "min               800.460000       -760.661236         -1.000000  \n",
       "25%             14177.540000        616.150000          3.000000  \n",
       "50%             27554.485000        697.620000          4.000000  \n",
       "75%             40855.110000        763.950000          5.000000  \n",
       "max             99914.050000       2069.069761          5.000000  "
      ]
     },
     "execution_count": 4,
     "metadata": {},
     "output_type": "execute_result"
    }
   ],
   "source": [
    "df.describe()"
   ]
  },
  {
   "cell_type": "code",
   "execution_count": 5,
   "metadata": {},
   "outputs": [
    {
     "name": "stdout",
     "output_type": "stream",
     "text": [
      "No.of duplicate records is  0\n"
     ]
    }
   ],
   "source": [
    "print(\"No.of duplicate records is \",df.duplicated().sum())"
   ]
  },
  {
   "cell_type": "code",
   "execution_count": 6,
   "metadata": {},
   "outputs": [
    {
     "data": {
      "text/plain": [
       "Index(['customer_id', 'Name', 'age', 'gender', 'security_no',\n",
       "       'region_category', 'membership_category', 'joining_date',\n",
       "       'joined_through_referral', 'referral_id', 'preferred_offer_types',\n",
       "       'medium_of_operation', 'internet_option', 'last_visit_time',\n",
       "       'days_since_last_login', 'avg_time_spent', 'avg_transaction_value',\n",
       "       'avg_frequency_login_days', 'points_in_wallet', 'used_special_discount',\n",
       "       'offer_application_preference', 'past_complaint', 'complaint_status',\n",
       "       'feedback', 'churn_risk_score'],\n",
       "      dtype='object')"
      ]
     },
     "execution_count": 6,
     "metadata": {},
     "output_type": "execute_result"
    }
   ],
   "source": [
    "df.columns"
   ]
  },
  {
   "cell_type": "code",
   "execution_count": 7,
   "metadata": {},
   "outputs": [
    {
     "data": {
      "text/plain": [
       "churn_risk_score\n",
       "-1     1163\n",
       " 1     2652\n",
       " 2     2741\n",
       " 3    10424\n",
       " 4    10185\n",
       " 5     9827\n",
       "dtype: int64"
      ]
     },
     "execution_count": 7,
     "metadata": {},
     "output_type": "execute_result"
    }
   ],
   "source": [
    "df.groupby('churn_risk_score').size()"
   ]
  },
  {
   "cell_type": "code",
   "execution_count": 8,
   "metadata": {},
   "outputs": [],
   "source": [
    "df = df[df.churn_risk_score != -1]"
   ]
  },
  {
   "cell_type": "code",
   "execution_count": 9,
   "metadata": {},
   "outputs": [
    {
     "data": {
      "text/plain": [
       "churn_risk_score\n",
       "1     2652\n",
       "2     2741\n",
       "3    10424\n",
       "4    10185\n",
       "5     9827\n",
       "dtype: int64"
      ]
     },
     "execution_count": 9,
     "metadata": {},
     "output_type": "execute_result"
    }
   ],
   "source": [
    "df.groupby('churn_risk_score').size()"
   ]
  },
  {
   "cell_type": "code",
   "execution_count": 10,
   "metadata": {},
   "outputs": [
    {
     "name": "stdout",
     "output_type": "stream",
     "text": [
      "customer_id: \n",
      "\n",
      "['fffe4300490044003600300030003800' 'fffe43004900440032003100300035003700'\n",
      " 'fffe4300490044003100390032003600' ... 'fffe4300490044003500330034003100'\n",
      " 'fffe43004900440031003200390039003000'\n",
      " 'fffe43004900440033003600340034003200']\n",
      "\n",
      "Name: \n",
      "\n",
      "['Pattie Morrisey' 'Traci Peery' 'Merideth Mcmeen' ... 'Luciana Kinch'\n",
      " 'Tawana Ardoin' 'Verlene Beaulieu']\n",
      "\n",
      "age: \n",
      "\n",
      "[18 32 44 37 31 13 21 42 45 25 60 11 34 40 16 57 39 33 30 19 43 29 10 20\n",
      " 61 17 12 52 26 49 24 22 36 58 41 50 38 35 48 28 53 55 59 47 54 62 51 56\n",
      " 23 27 14 46 15 64 63]\n",
      "\n",
      "gender: \n",
      "\n",
      "['F' 'M' 'Unknown']\n",
      "\n",
      "security_no: \n",
      "\n",
      "['XW0DQ7H' '5K0N3X1' '1F2TCL3' ... 'XK1IM9H' 'K6VTP1Z' 'LBX0GLR']\n",
      "\n",
      "region_category: \n",
      "\n",
      "['Village' 'City' 'Town' nan]\n",
      "\n",
      "membership_category: \n",
      "\n",
      "['Platinum Membership' 'Premium Membership' 'No Membership'\n",
      " 'Gold Membership' 'Silver Membership' 'Basic Membership']\n",
      "\n",
      "joining_date: \n",
      "\n",
      "['2017-08-17' '2017-08-28' '2016-11-11' ... '2017-12-11' '2016-09-25'\n",
      " '2017-04-15']\n",
      "\n",
      "joined_through_referral: \n",
      "\n",
      "['No' '?' 'Yes']\n",
      "\n",
      "referral_id: \n",
      "\n",
      "['xxxxxxxx' 'CID21329' 'CID12313' ... 'CID60808' 'CID10431' 'CID45477']\n",
      "\n",
      "preferred_offer_types: \n",
      "\n",
      "['Gift Vouchers/Coupons' 'Credit/Debit Card Offers' 'Without Offers' nan]\n",
      "\n",
      "medium_of_operation: \n",
      "\n",
      "['?' 'Desktop' 'Smartphone' 'Both']\n",
      "\n",
      "internet_option: \n",
      "\n",
      "['Wi-Fi' 'Mobile_Data' 'Fiber_Optic']\n",
      "\n",
      "last_visit_time: \n",
      "\n",
      "['16:08:02' '12:38:13' '22:53:21' ... '04:14:05' '09:50:03' '01:39:52']\n",
      "\n",
      "days_since_last_login: \n",
      "\n",
      "[  17   16   14   11   20   23   10   19   15   13 -999    5   12    9\n",
      "   21   18    1   22    4    8    3    6    2   24    7   26   25]\n",
      "\n",
      "avg_time_spent: \n",
      "\n",
      "[ 300.63       306.34       516.16      ... -638.1234208  154.94\n",
      "  482.61     ]\n",
      "\n",
      "avg_transaction_value: \n",
      "\n",
      "[53005.25 12838.38 21027.   ... 38127.56  2378.86  2189.68]\n",
      "\n",
      "avg_frequency_login_days: \n",
      "\n",
      "['17.0' '10.0' '22.0' ... '-9.32551114210603' '-8.759329712785977'\n",
      " '27.8399274405269']\n",
      "\n",
      "points_in_wallet: \n",
      "\n",
      "[781.75                nan 500.69       ... 242.97962545 639.51\n",
      " 197.26441364]\n",
      "\n",
      "used_special_discount: \n",
      "\n",
      "['Yes' 'No']\n",
      "\n",
      "offer_application_preference: \n",
      "\n",
      "['Yes' 'No']\n",
      "\n",
      "past_complaint: \n",
      "\n",
      "['No' 'Yes']\n",
      "\n",
      "complaint_status: \n",
      "\n",
      "['Not Applicable' 'Solved' 'Solved in Follow-up' 'Unsolved'\n",
      " 'No Information Available']\n",
      "\n",
      "feedback: \n",
      "\n",
      "['Products always in Stock' 'Quality Customer Care' 'Poor Website'\n",
      " 'No reason specified' 'Poor Product Quality' 'Poor Customer Service'\n",
      " 'Too many ads' 'User Friendly Website' 'Reasonable Price']\n",
      "\n",
      "churn_risk_score: \n",
      "\n",
      "[2 1 5 3 4]\n",
      "\n"
     ]
    }
   ],
   "source": [
    "for column in df.columns:\n",
    "    print(f\"{column}: \")\n",
    "    print(\"\")\n",
    "    print(df[column].unique())\n",
    "    print(\"\")"
   ]
  },
  {
   "cell_type": "code",
   "execution_count": 11,
   "metadata": {},
   "outputs": [],
   "source": [
    "df['gender'] = df['gender'].map({'F':1, 'M':0, 'Unknown':1})\n",
    "df['region_category'] = df['region_category'].map({'Village':1, 'City':2, 'Town':3})\n",
    "df['membership_category'] = df['membership_category'].map({'Platinum Membership':1, 'Premium Membership':2, 'No Membership':3,'Gold Membership':4, 'Silver Membership':5, 'Basic Membership':6})\n",
    "df['joined_through_referral'] = df['joined_through_referral'].map({'Yes':1, 'No':0, '?':1})\n",
    "df['preferred_offer_types'] = df['preferred_offer_types'].map({'Gift Vouchers/Coupons':1, 'Credit/Debit Card Offers':2, 'Without Offers':3})\n",
    "df['medium_of_operation'] = df['medium_of_operation'].map({'Desktop':1, 'Smartphone':2, 'Both':3, '?':3})\n",
    "df['internet_option'] = df['internet_option'].map({'Wi-Fi':1, 'Mobile_Data':2,'Fiber_Optic':3})\n",
    "df['used_special_discount'] = df['used_special_discount'].map({'Yes':1, 'No':0})\n",
    "df['offer_application_preference'] = df['offer_application_preference'].map({'Yes':1, 'No':0})\n",
    "df['past_complaint'] = df['past_complaint'].map({'Yes':1, 'No':0})\n",
    "df['complaint_status'] = df['complaint_status'].map({'Not Applicable':1, 'Solved':2, 'Solved in Follow-up':3, 'Unsolved':4, 'No Information Available':5})\n",
    "df['feedback'] = df['feedback'].map({'Products always in Stock':1, 'Quality Customer Care':2, 'Poor Website':3, 'No reason specified':4, 'Poor Product Quality':5, 'Poor Customer Service':6, 'Too many ads':7, 'User Friendly Website':8, 'Reasonable Price':9    })\n"
   ]
  },
  {
   "cell_type": "code",
   "execution_count": 12,
   "metadata": {},
   "outputs": [],
   "source": [
    "df['region_category']=df['region_category'].replace(np.nan,0)\n",
    "df['preferred_offer_types']=df['preferred_offer_types'].replace(np.nan,0)"
   ]
  },
  {
   "cell_type": "code",
   "execution_count": 13,
   "metadata": {},
   "outputs": [
    {
     "name": "stdout",
     "output_type": "stream",
     "text": [
      "customer_id: \n",
      "\n",
      "['fffe4300490044003600300030003800' 'fffe43004900440032003100300035003700'\n",
      " 'fffe4300490044003100390032003600' ... 'fffe4300490044003500330034003100'\n",
      " 'fffe43004900440031003200390039003000'\n",
      " 'fffe43004900440033003600340034003200']\n",
      "\n",
      "Name: \n",
      "\n",
      "['Pattie Morrisey' 'Traci Peery' 'Merideth Mcmeen' ... 'Luciana Kinch'\n",
      " 'Tawana Ardoin' 'Verlene Beaulieu']\n",
      "\n",
      "age: \n",
      "\n",
      "[18 32 44 37 31 13 21 42 45 25 60 11 34 40 16 57 39 33 30 19 43 29 10 20\n",
      " 61 17 12 52 26 49 24 22 36 58 41 50 38 35 48 28 53 55 59 47 54 62 51 56\n",
      " 23 27 14 46 15 64 63]\n",
      "\n",
      "gender: \n",
      "\n",
      "[1 0]\n",
      "\n",
      "security_no: \n",
      "\n",
      "['XW0DQ7H' '5K0N3X1' '1F2TCL3' ... 'XK1IM9H' 'K6VTP1Z' 'LBX0GLR']\n",
      "\n",
      "region_category: \n",
      "\n",
      "[1. 2. 3. 0.]\n",
      "\n",
      "membership_category: \n",
      "\n",
      "[1 2 3 4 5 6]\n",
      "\n",
      "joining_date: \n",
      "\n",
      "['2017-08-17' '2017-08-28' '2016-11-11' ... '2017-12-11' '2016-09-25'\n",
      " '2017-04-15']\n",
      "\n",
      "joined_through_referral: \n",
      "\n",
      "[0 1]\n",
      "\n",
      "referral_id: \n",
      "\n",
      "['xxxxxxxx' 'CID21329' 'CID12313' ... 'CID60808' 'CID10431' 'CID45477']\n",
      "\n",
      "preferred_offer_types: \n",
      "\n",
      "[1. 2. 3. 0.]\n",
      "\n",
      "medium_of_operation: \n",
      "\n",
      "[3 1 2]\n",
      "\n",
      "internet_option: \n",
      "\n",
      "[1 2 3]\n",
      "\n",
      "last_visit_time: \n",
      "\n",
      "['16:08:02' '12:38:13' '22:53:21' ... '04:14:05' '09:50:03' '01:39:52']\n",
      "\n",
      "days_since_last_login: \n",
      "\n",
      "[  17   16   14   11   20   23   10   19   15   13 -999    5   12    9\n",
      "   21   18    1   22    4    8    3    6    2   24    7   26   25]\n",
      "\n",
      "avg_time_spent: \n",
      "\n",
      "[ 300.63       306.34       516.16      ... -638.1234208  154.94\n",
      "  482.61     ]\n",
      "\n",
      "avg_transaction_value: \n",
      "\n",
      "[53005.25 12838.38 21027.   ... 38127.56  2378.86  2189.68]\n",
      "\n",
      "avg_frequency_login_days: \n",
      "\n",
      "['17.0' '10.0' '22.0' ... '-9.32551114210603' '-8.759329712785977'\n",
      " '27.8399274405269']\n",
      "\n",
      "points_in_wallet: \n",
      "\n",
      "[781.75                nan 500.69       ... 242.97962545 639.51\n",
      " 197.26441364]\n",
      "\n",
      "used_special_discount: \n",
      "\n",
      "[1 0]\n",
      "\n",
      "offer_application_preference: \n",
      "\n",
      "[1 0]\n",
      "\n",
      "past_complaint: \n",
      "\n",
      "[0 1]\n",
      "\n",
      "complaint_status: \n",
      "\n",
      "[1 2 3 4 5]\n",
      "\n",
      "feedback: \n",
      "\n",
      "[1 2 3 4 5 6 7 8 9]\n",
      "\n",
      "churn_risk_score: \n",
      "\n",
      "[2 1 5 3 4]\n",
      "\n"
     ]
    }
   ],
   "source": [
    "for column in df.columns:\n",
    "    print(f\"{column}: \")\n",
    "    print(\"\")\n",
    "    print(df[column].unique())\n",
    "    print(\"\")"
   ]
  },
  {
   "cell_type": "code",
   "execution_count": 14,
   "metadata": {},
   "outputs": [
    {
     "name": "stdout",
     "output_type": "stream",
     "text": [
      "<class 'pandas.core.frame.DataFrame'>\n",
      "Int64Index: 35829 entries, 0 to 36991\n",
      "Data columns (total 25 columns):\n",
      " #   Column                        Non-Null Count  Dtype  \n",
      "---  ------                        --------------  -----  \n",
      " 0   customer_id                   35829 non-null  object \n",
      " 1   Name                          35829 non-null  object \n",
      " 2   age                           35829 non-null  int64  \n",
      " 3   gender                        35829 non-null  int64  \n",
      " 4   security_no                   35829 non-null  object \n",
      " 5   region_category               35829 non-null  float64\n",
      " 6   membership_category           35829 non-null  int64  \n",
      " 7   joining_date                  35829 non-null  object \n",
      " 8   joined_through_referral       35829 non-null  int64  \n",
      " 9   referral_id                   35829 non-null  object \n",
      " 10  preferred_offer_types         35829 non-null  float64\n",
      " 11  medium_of_operation           35829 non-null  int64  \n",
      " 12  internet_option               35829 non-null  int64  \n",
      " 13  last_visit_time               35829 non-null  object \n",
      " 14  days_since_last_login         35829 non-null  int64  \n",
      " 15  avg_time_spent                35829 non-null  float64\n",
      " 16  avg_transaction_value         35829 non-null  float64\n",
      " 17  avg_frequency_login_days      35829 non-null  object \n",
      " 18  points_in_wallet              32488 non-null  float64\n",
      " 19  used_special_discount         35829 non-null  int64  \n",
      " 20  offer_application_preference  35829 non-null  int64  \n",
      " 21  past_complaint                35829 non-null  int64  \n",
      " 22  complaint_status              35829 non-null  int64  \n",
      " 23  feedback                      35829 non-null  int64  \n",
      " 24  churn_risk_score              35829 non-null  int64  \n",
      "dtypes: float64(5), int64(13), object(7)\n",
      "memory usage: 7.1+ MB\n"
     ]
    }
   ],
   "source": [
    "df.info()"
   ]
  },
  {
   "cell_type": "code",
   "execution_count": 15,
   "metadata": {},
   "outputs": [],
   "source": [
    "df = df.loc[:,[ 'age', 'gender', 'region_category', 'membership_category', 'joined_through_referral', 'preferred_offer_types', 'medium_of_operation',\n",
    "              'internet_option', 'days_since_last_login', 'avg_time_spent', 'avg_transaction_value', 'used_special_discount',\n",
    "              'offer_application_preference', 'past_complaint', 'complaint_status', 'feedback', 'churn_risk_score']]"
   ]
  },
  {
   "cell_type": "code",
   "execution_count": 16,
   "metadata": {},
   "outputs": [
    {
     "name": "stdout",
     "output_type": "stream",
     "text": [
      "<class 'pandas.core.frame.DataFrame'>\n",
      "Int64Index: 35829 entries, 0 to 36991\n",
      "Data columns (total 17 columns):\n",
      " #   Column                        Non-Null Count  Dtype  \n",
      "---  ------                        --------------  -----  \n",
      " 0   age                           35829 non-null  int64  \n",
      " 1   gender                        35829 non-null  int64  \n",
      " 2   region_category               35829 non-null  float64\n",
      " 3   membership_category           35829 non-null  int64  \n",
      " 4   joined_through_referral       35829 non-null  int64  \n",
      " 5   preferred_offer_types         35829 non-null  float64\n",
      " 6   medium_of_operation           35829 non-null  int64  \n",
      " 7   internet_option               35829 non-null  int64  \n",
      " 8   days_since_last_login         35829 non-null  int64  \n",
      " 9   avg_time_spent                35829 non-null  float64\n",
      " 10  avg_transaction_value         35829 non-null  float64\n",
      " 11  used_special_discount         35829 non-null  int64  \n",
      " 12  offer_application_preference  35829 non-null  int64  \n",
      " 13  past_complaint                35829 non-null  int64  \n",
      " 14  complaint_status              35829 non-null  int64  \n",
      " 15  feedback                      35829 non-null  int64  \n",
      " 16  churn_risk_score              35829 non-null  int64  \n",
      "dtypes: float64(4), int64(13)\n",
      "memory usage: 4.9 MB\n"
     ]
    }
   ],
   "source": [
    "df.info()"
   ]
  },
  {
   "cell_type": "code",
   "execution_count": 17,
   "metadata": {},
   "outputs": [
    {
     "data": {
      "text/plain": [
       "0        53005.25\n",
       "1        12838.38\n",
       "2        21027.00\n",
       "3        25239.56\n",
       "4        24483.66\n",
       "           ...   \n",
       "36987    27277.68\n",
       "36988    11069.71\n",
       "36989    38127.56\n",
       "36990     2378.86\n",
       "36991     2189.68\n",
       "Name: avg_transaction_value, Length: 35829, dtype: float64"
      ]
     },
     "execution_count": 17,
     "metadata": {},
     "output_type": "execute_result"
    }
   ],
   "source": [
    "df['avg_time_spent'].fillna(-1)\n",
    "df['avg_transaction_value'].fillna(-1)"
   ]
  },
  {
   "cell_type": "code",
   "execution_count": 18,
   "metadata": {},
   "outputs": [],
   "source": [
    "df['avg_time_spent'] = df['avg_time_spent'].astype(int)\n",
    "df['avg_transaction_value'] = df['avg_transaction_value'].astype(int)\n",
    "df['preferred_offer_types'] = df['preferred_offer_types'].astype(int)\n",
    "df['region_category'] = df['region_category'].astype(int)"
   ]
  },
  {
   "cell_type": "code",
   "execution_count": 19,
   "metadata": {},
   "outputs": [],
   "source": [
    "X = df.iloc[:,:-1].values\n",
    "y = df.iloc[:,-1].values"
   ]
  },
  {
   "cell_type": "code",
   "execution_count": 20,
   "metadata": {},
   "outputs": [],
   "source": [
    "from sklearn.preprocessing import MinMaxScaler\n",
    "minmaxer = MinMaxScaler(feature_range=(1,10))\n",
    "minmaxed_x = minmaxer.fit_transform(X)"
   ]
  },
  {
   "cell_type": "code",
   "execution_count": 21,
   "metadata": {},
   "outputs": [
    {
     "name": "stdout",
     "output_type": "stream",
     "text": [
      "                                  chi2 val   pval\n",
      "age                               8.354110  0.079\n",
      "gender                            7.060005  0.133\n",
      "region_category                  25.555806  0.000\n",
      "membership_category           13363.135125  0.000\n",
      "joined_through_referral         499.193499  0.000\n",
      "preferred_offer_types           248.144472  0.000\n",
      "medium_of_operation              15.600467  0.004\n",
      "internet_option                  16.078900  0.003\n",
      "days_since_last_login             4.492119  0.343\n",
      "avg_time_spent                    2.853515  0.583\n",
      "avg_transaction_value          7069.642020  0.000\n",
      "used_special_discount            19.139087  0.001\n",
      "offer_application_preference    323.865375  0.000\n",
      "past_complaint                   32.359209  0.000\n",
      "complaint_status                 17.022219  0.002\n",
      "feedback                          2.838089  0.585\n"
     ]
    }
   ],
   "source": [
    "from sklearn.feature_selection import chi2\n",
    "chi_value,pval = chi2(minmaxed_x,y)\n",
    "pval = np.round(pval,decimals=3)\n",
    "with np.printoptions(precision=4,suppress=True):\n",
    " print(pd.DataFrame(np.concatenate((chi_value.reshape(-1,1),pval.reshape(-1,1)),axis=1),\n",
    " index = df.columns[:-1],columns=['chi2 val','pval']))"
   ]
  },
  {
   "cell_type": "code",
   "execution_count": 54,
   "metadata": {},
   "outputs": [
    {
     "name": "stdout",
     "output_type": "stream",
     "text": [
      "<class 'pandas.core.frame.DataFrame'>\n",
      "Int64Index: 35829 entries, 0 to 36991\n",
      "Data columns (total 17 columns):\n",
      " #   Column                        Non-Null Count  Dtype\n",
      "---  ------                        --------------  -----\n",
      " 0   age                           35829 non-null  int64\n",
      " 1   gender                        35829 non-null  int64\n",
      " 2   region_category               35829 non-null  int32\n",
      " 3   membership_category           35829 non-null  int64\n",
      " 4   joined_through_referral       35829 non-null  int64\n",
      " 5   preferred_offer_types         35829 non-null  int32\n",
      " 6   medium_of_operation           35829 non-null  int64\n",
      " 7   internet_option               35829 non-null  int64\n",
      " 8   days_since_last_login         35829 non-null  int64\n",
      " 9   avg_time_spent                35829 non-null  int32\n",
      " 10  avg_transaction_value         35829 non-null  int32\n",
      " 11  used_special_discount         35829 non-null  int64\n",
      " 12  offer_application_preference  35829 non-null  int64\n",
      " 13  past_complaint                35829 non-null  int64\n",
      " 14  complaint_status              35829 non-null  int64\n",
      " 15  feedback                      35829 non-null  int64\n",
      " 16  churn_risk_score              35829 non-null  int64\n",
      "dtypes: int32(4), int64(13)\n",
      "memory usage: 4.4 MB\n"
     ]
    }
   ],
   "source": [
    "df.info()"
   ]
  },
  {
   "cell_type": "code",
   "execution_count": 89,
   "metadata": {},
   "outputs": [],
   "source": [
    "X = df.drop(columns=['region_category','feedback','avg_time_spent','churn_risk_score']).values\n",
    "#X = df.drop(columns=['region_category','avg_transaction_value','preferred_offer_types','feedback','avg_time_spent','churn_risk_score']).values"
   ]
  },
  {
   "cell_type": "code",
   "execution_count": 90,
   "metadata": {},
   "outputs": [],
   "source": [
    "from sklearn.preprocessing import StandardScaler\n",
    "scaler = StandardScaler()\n",
    "X = scaler.fit_transform(X)"
   ]
  },
  {
   "cell_type": "code",
   "execution_count": 91,
   "metadata": {},
   "outputs": [],
   "source": [
    "X_train,X_test,y_train,y_test = TTS(X,y,test_size=0.33)"
   ]
  },
  {
   "cell_type": "markdown",
   "metadata": {},
   "source": [
    "***Random Forest***"
   ]
  },
  {
   "cell_type": "code",
   "execution_count": 92,
   "metadata": {},
   "outputs": [],
   "source": [
    "rf = RFC(max_depth=5, random_state=0)\n",
    "clf4 = rf.fit(X_train, y_train)\n",
    "y_pred4 = clf4.predict(X_test)"
   ]
  },
  {
   "cell_type": "code",
   "execution_count": 93,
   "metadata": {},
   "outputs": [
    {
     "name": "stdout",
     "output_type": "stream",
     "text": [
      "\n",
      "1. Random Forest Classifier\n",
      "\n",
      "\n",
      " CLASSIFICATION REPORT\n",
      "               precision    recall  f1-score   support\n",
      "\n",
      "           1       0.55      0.46      0.50       881\n",
      "           2       0.76      0.17      0.28       941\n",
      "           3       0.77      0.51      0.61      3418\n",
      "           4       0.44      0.51      0.47      3377\n",
      "           5       0.65      0.95      0.77      3207\n",
      "\n",
      "    accuracy                           0.60     11824\n",
      "   macro avg       0.63      0.52      0.53     11824\n",
      "weighted avg       0.63      0.60      0.58     11824\n",
      "\n",
      "\n",
      " CONFUSION MATRIX\n",
      " [[ 405   49  298  129    0]\n",
      " [ 338  159  225  219    0]\n",
      " [   0    0 1744 1674    0]\n",
      " [   0    0    0 1725 1652]\n",
      " [   0    0    0  154 3053]]\n",
      "\n",
      " ACCURACY SCORE  :  0.5992895805142084\n",
      "\n",
      " PRECISION SCORE :  0.6339775335172018\n"
     ]
    }
   ],
   "source": [
    "print(\"\\n1. Random Forest Classifier\\n\")\n",
    "print('\\n CLASSIFICATION REPORT\\n', c_r(y_test, y_pred4,zero_division=1))\n",
    "print('\\n CONFUSION MATRIX\\n', c_m(y_test, y_pred4))\n",
    "print('\\n ACCURACY SCORE  : ', a_s(y_test, y_pred4))\n",
    "print('\\n PRECISION SCORE : ', p_s(y_test, y_pred4, average='macro', zero_division = 1))"
   ]
  },
  {
   "cell_type": "markdown",
   "metadata": {},
   "source": [
    "***KNN***"
   ]
  },
  {
   "cell_type": "code",
   "execution_count": 94,
   "metadata": {},
   "outputs": [],
   "source": [
    "knn = KNN(n_neighbors = 5, metric = 'minkowski', p = 2)\n",
    "clf = knn.fit(X_train, y_train)\n",
    "y_pred = clf.predict(X_test)"
   ]
  },
  {
   "cell_type": "code",
   "execution_count": 95,
   "metadata": {},
   "outputs": [
    {
     "name": "stdout",
     "output_type": "stream",
     "text": [
      "\n",
      "2. KNN Classifier\n",
      "\n",
      "\n",
      " CLASSIFICATION REPORT\n",
      "               precision    recall  f1-score   support\n",
      "\n",
      "           1       0.36      0.28      0.32       881\n",
      "           2       0.38      0.20      0.26       941\n",
      "           3       0.44      0.56      0.49      3418\n",
      "           4       0.37      0.42      0.40      3377\n",
      "           5       0.46      0.35      0.40      3207\n",
      "\n",
      "    accuracy                           0.42     11824\n",
      "   macro avg       0.40      0.36      0.37     11824\n",
      "weighted avg       0.42      0.42      0.41     11824\n",
      "\n",
      "\n",
      " CONFUSION MATRIX\n",
      " [[ 247  169  302   98   65]\n",
      " [ 204  185  299  178   75]\n",
      " [ 139   76 1922  899  382]\n",
      " [  54   34 1050 1427  812]\n",
      " [  37   23  782 1232 1133]]\n",
      "\n",
      " ACCURACY SCORE  :  0.415595399188092\n",
      "\n",
      " PRECISION SCORE :  0.4030737819712213\n"
     ]
    }
   ],
   "source": [
    "print(\"\\n2. KNN Classifier\\n\")\n",
    "print('\\n CLASSIFICATION REPORT\\n', c_r(y_test, y_pred,zero_division=1))\n",
    "print('\\n CONFUSION MATRIX\\n', c_m(y_test, y_pred))\n",
    "print('\\n ACCURACY SCORE  : ', a_s(y_test, y_pred))\n",
    "print('\\n PRECISION SCORE : ', p_s(y_test, y_pred, average='macro', zero_division = 1))"
   ]
  },
  {
   "cell_type": "markdown",
   "metadata": {},
   "source": [
    "***Model Optimization***"
   ]
  },
  {
   "cell_type": "code",
   "execution_count": 96,
   "metadata": {},
   "outputs": [
    {
     "name": "stdout",
     "output_type": "stream",
     "text": [
      "RF   : 0.601250 (0.015797)\n",
      "KNN   : 0.417163 (0.006175)\n"
     ]
    },
    {
     "data": {
      "image/png": "[encoded data removed]",
      "text/plain": [
       "<Figure size 432x288 with 1 Axes>"
      ]
     },
     "metadata": {
      "needs_background": "light"
     },
     "output_type": "display_data"
    }
   ],
   "source": [
    "from sklearn import model_selection\n",
    "models = []\n",
    "models.append(('RF', rf))\n",
    "models.append(('KNN', knn))\n",
    "# evaluate each model in turn\n",
    "results = []\n",
    "names = []\n",
    "scoring = 'accuracy'\n",
    "for name, model in models:\n",
    "\tkfold = model_selection.KFold(n_splits=5)\n",
    "\tcv_results = model_selection.cross_val_score(model, X_train, y_train, cv=kfold, scoring=scoring)\n",
    "\tresults.append(cv_results)\n",
    "\tnames.append(name)\n",
    "\tmsg = \"%s   : %f (%f)\" % (name, cv_results.mean(), cv_results.std())\n",
    "\tprint(msg)\n",
    "fig = plt.figure()\n",
    "fig.suptitle('Algorithm Comparison')\n",
    "ax = fig.add_subplot(111)\n",
    "plt.boxplot(results)\n",
    "plt.xlabel(\"CLASSIFICATION MODEL\")\n",
    "plt.ylabel(\"CROSS VALIDATION SCORES\")\n",
    "ax.set_xticklabels(names)\n",
    "plt.show()"
   ]
  },
  {
   "cell_type": "markdown",
   "metadata": {},
   "source": [
    "***Test Set***"
   ]
  },
  {
   "cell_type": "code",
   "execution_count": 123,
   "metadata": {},
   "outputs": [
    {
     "data": {
      "text/html": [
       "<div>\n",
       "<style scoped>\n",
       "    .dataframe tbody tr th:only-of-type {\n",
       "        vertical-align: middle;\n",
       "    }\n",
       "\n",
       "    .dataframe tbody tr th {\n",
       "        vertical-align: top;\n",
       "    }\n",
       "\n",
       "    .dataframe thead th {\n",
       "        text-align: right;\n",
       "    }\n",
       "</style>\n",
       "<table border=\"1\" class=\"dataframe\">\n",
       "  <thead>\n",
       "    <tr style=\"text-align: right;\">\n",
       "      <th></th>\n",
       "      <th>customer_id</th>\n",
       "      <th>Name</th>\n",
       "      <th>age</th>\n",
       "      <th>gender</th>\n",
       "      <th>security_no</th>\n",
       "      <th>region_category</th>\n",
       "      <th>membership_category</th>\n",
       "      <th>joining_date</th>\n",
       "      <th>joined_through_referral</th>\n",
       "      <th>referral_id</th>\n",
       "      <th>...</th>\n",
       "      <th>days_since_last_login</th>\n",
       "      <th>avg_time_spent</th>\n",
       "      <th>avg_transaction_value</th>\n",
       "      <th>avg_frequency_login_days</th>\n",
       "      <th>points_in_wallet</th>\n",
       "      <th>used_special_discount</th>\n",
       "      <th>offer_application_preference</th>\n",
       "      <th>past_complaint</th>\n",
       "      <th>complaint_status</th>\n",
       "      <th>feedback</th>\n",
       "    </tr>\n",
       "  </thead>\n",
       "  <tbody>\n",
       "    <tr>\n",
       "      <th>0</th>\n",
       "      <td>fffe43004900440031003700300030003400</td>\n",
       "      <td>Alethia Meints</td>\n",
       "      <td>50</td>\n",
       "      <td>F</td>\n",
       "      <td>OQJ1XAY</td>\n",
       "      <td>Village</td>\n",
       "      <td>Premium Membership</td>\n",
       "      <td>2015-11-02</td>\n",
       "      <td>No</td>\n",
       "      <td>xxxxxxxx</td>\n",
       "      <td>...</td>\n",
       "      <td>12</td>\n",
       "      <td>386.26</td>\n",
       "      <td>40721.44</td>\n",
       "      <td>7.0</td>\n",
       "      <td>733.830000</td>\n",
       "      <td>Yes</td>\n",
       "      <td>No</td>\n",
       "      <td>No</td>\n",
       "      <td>Not Applicable</td>\n",
       "      <td>Poor Product Quality</td>\n",
       "    </tr>\n",
       "    <tr>\n",
       "      <th>1</th>\n",
       "      <td>fffe43004900440031003900370037003300</td>\n",
       "      <td>Ming Lopez</td>\n",
       "      <td>41</td>\n",
       "      <td>M</td>\n",
       "      <td>OUQRPKO</td>\n",
       "      <td>Village</td>\n",
       "      <td>Gold Membership</td>\n",
       "      <td>2016-03-01</td>\n",
       "      <td>No</td>\n",
       "      <td>xxxxxxxx</td>\n",
       "      <td>...</td>\n",
       "      <td>11</td>\n",
       "      <td>37.80</td>\n",
       "      <td>9644.40</td>\n",
       "      <td>9.0</td>\n",
       "      <td>726.000000</td>\n",
       "      <td>Yes</td>\n",
       "      <td>No</td>\n",
       "      <td>No</td>\n",
       "      <td>Not Applicable</td>\n",
       "      <td>Poor Website</td>\n",
       "    </tr>\n",
       "    <tr>\n",
       "      <th>2</th>\n",
       "      <td>fffe43004900440034003800360037003000</td>\n",
       "      <td>Carina Flannigan</td>\n",
       "      <td>31</td>\n",
       "      <td>F</td>\n",
       "      <td>02J2RE7</td>\n",
       "      <td>Town</td>\n",
       "      <td>Silver Membership</td>\n",
       "      <td>2017-03-03</td>\n",
       "      <td>No</td>\n",
       "      <td>xxxxxxxx</td>\n",
       "      <td>...</td>\n",
       "      <td>18</td>\n",
       "      <td>215.36</td>\n",
       "      <td>3693.25</td>\n",
       "      <td>21.0</td>\n",
       "      <td>713.780000</td>\n",
       "      <td>Yes</td>\n",
       "      <td>No</td>\n",
       "      <td>Yes</td>\n",
       "      <td>Solved in Follow-up</td>\n",
       "      <td>No reason specified</td>\n",
       "    </tr>\n",
       "    <tr>\n",
       "      <th>3</th>\n",
       "      <td>fffe43004900440036003200370033003400</td>\n",
       "      <td>Kyung Wanner</td>\n",
       "      <td>64</td>\n",
       "      <td>M</td>\n",
       "      <td>5YEQIF1</td>\n",
       "      <td>Town</td>\n",
       "      <td>Silver Membership</td>\n",
       "      <td>2017-08-18</td>\n",
       "      <td>Yes</td>\n",
       "      <td>CID8941</td>\n",
       "      <td>...</td>\n",
       "      <td>-999</td>\n",
       "      <td>44.57</td>\n",
       "      <td>36809.56</td>\n",
       "      <td>11.0</td>\n",
       "      <td>744.970000</td>\n",
       "      <td>Yes</td>\n",
       "      <td>No</td>\n",
       "      <td>Yes</td>\n",
       "      <td>No Information Available</td>\n",
       "      <td>Too many ads</td>\n",
       "    </tr>\n",
       "    <tr>\n",
       "      <th>4</th>\n",
       "      <td>fffe43004900440035003000370031003900</td>\n",
       "      <td>Enola Gatto</td>\n",
       "      <td>16</td>\n",
       "      <td>F</td>\n",
       "      <td>100RYB5</td>\n",
       "      <td>Town</td>\n",
       "      <td>No Membership</td>\n",
       "      <td>2015-05-05</td>\n",
       "      <td>Yes</td>\n",
       "      <td>CID5690</td>\n",
       "      <td>...</td>\n",
       "      <td>6</td>\n",
       "      <td>349.88</td>\n",
       "      <td>40675.86</td>\n",
       "      <td>8.0</td>\n",
       "      <td>299.048351</td>\n",
       "      <td>No</td>\n",
       "      <td>Yes</td>\n",
       "      <td>Yes</td>\n",
       "      <td>Solved in Follow-up</td>\n",
       "      <td>Poor Website</td>\n",
       "    </tr>\n",
       "  </tbody>\n",
       "</table>\n",
       "<p>5 rows × 24 columns</p>\n",
       "</div>"
      ],
      "text/plain": [
       "                            customer_id              Name  age gender  \\\n",
       "0  fffe43004900440031003700300030003400    Alethia Meints   50      F   \n",
       "1  fffe43004900440031003900370037003300        Ming Lopez   41      M   \n",
       "2  fffe43004900440034003800360037003000  Carina Flannigan   31      F   \n",
       "3  fffe43004900440036003200370033003400      Kyung Wanner   64      M   \n",
       "4  fffe43004900440035003000370031003900       Enola Gatto   16      F   \n",
       "\n",
       "  security_no region_category membership_category joining_date  \\\n",
       "0     OQJ1XAY         Village  Premium Membership   2015-11-02   \n",
       "1     OUQRPKO         Village     Gold Membership   2016-03-01   \n",
       "2     02J2RE7            Town   Silver Membership   2017-03-03   \n",
       "3     5YEQIF1            Town   Silver Membership   2017-08-18   \n",
       "4     100RYB5            Town       No Membership   2015-05-05   \n",
       "\n",
       "  joined_through_referral referral_id  ... days_since_last_login  \\\n",
       "0                      No    xxxxxxxx  ...                    12   \n",
       "1                      No    xxxxxxxx  ...                    11   \n",
       "2                      No    xxxxxxxx  ...                    18   \n",
       "3                     Yes     CID8941  ...                  -999   \n",
       "4                     Yes     CID5690  ...                     6   \n",
       "\n",
       "  avg_time_spent avg_transaction_value avg_frequency_login_days  \\\n",
       "0         386.26              40721.44                      7.0   \n",
       "1          37.80               9644.40                      9.0   \n",
       "2         215.36               3693.25                     21.0   \n",
       "3          44.57              36809.56                     11.0   \n",
       "4         349.88              40675.86                      8.0   \n",
       "\n",
       "   points_in_wallet  used_special_discount  offer_application_preference  \\\n",
       "0        733.830000                    Yes                            No   \n",
       "1        726.000000                    Yes                            No   \n",
       "2        713.780000                    Yes                            No   \n",
       "3        744.970000                    Yes                            No   \n",
       "4        299.048351                     No                           Yes   \n",
       "\n",
       "  past_complaint          complaint_status              feedback  \n",
       "0             No            Not Applicable  Poor Product Quality  \n",
       "1             No            Not Applicable          Poor Website  \n",
       "2            Yes       Solved in Follow-up   No reason specified  \n",
       "3            Yes  No Information Available          Too many ads  \n",
       "4            Yes       Solved in Follow-up          Poor Website  \n",
       "\n",
       "[5 rows x 24 columns]"
      ]
     },
     "execution_count": 123,
     "metadata": {},
     "output_type": "execute_result"
    }
   ],
   "source": [
    "df1 = pd.read_csv(\"test.csv\")\n",
    "df1.head()"
   ]
  },
  {
   "cell_type": "code",
   "execution_count": 126,
   "metadata": {},
   "outputs": [
    {
     "data": {
      "text/plain": [
       "0        fffe43004900440031003700300030003400\n",
       "1        fffe43004900440031003900370037003300\n",
       "2        fffe43004900440034003800360037003000\n",
       "3        fffe43004900440036003200370033003400\n",
       "4        fffe43004900440035003000370031003900\n",
       "                         ...                 \n",
       "19914    fffe43004900440035003600330037003800\n",
       "19915    fffe43004900440032003900370037003100\n",
       "19916    fffe43004900440036003100310036003700\n",
       "19917    fffe43004900440034003200330033003600\n",
       "19918    fffe43004900440036003200340030003100\n",
       "Name: customer_id, Length: 19919, dtype: object"
      ]
     },
     "execution_count": 126,
     "metadata": {},
     "output_type": "execute_result"
    }
   ],
   "source": [
    "ID = df1.iloc[:,0]\n",
    "ID"
   ]
  },
  {
   "cell_type": "code",
   "execution_count": 98,
   "metadata": {},
   "outputs": [
    {
     "data": {
      "text/plain": [
       "Index(['customer_id', 'Name', 'age', 'gender', 'security_no',\n",
       "       'region_category', 'membership_category', 'joining_date',\n",
       "       'joined_through_referral', 'referral_id', 'preferred_offer_types',\n",
       "       'medium_of_operation', 'internet_option', 'last_visit_time',\n",
       "       'days_since_last_login', 'avg_time_spent', 'avg_transaction_value',\n",
       "       'avg_frequency_login_days', 'points_in_wallet', 'used_special_discount',\n",
       "       'offer_application_preference', 'past_complaint', 'complaint_status',\n",
       "       'feedback'],\n",
       "      dtype='object')"
      ]
     },
     "execution_count": 98,
     "metadata": {},
     "output_type": "execute_result"
    }
   ],
   "source": [
    "df1.columns"
   ]
  },
  {
   "cell_type": "code",
   "execution_count": 99,
   "metadata": {},
   "outputs": [
    {
     "name": "stdout",
     "output_type": "stream",
     "text": [
      "No.of duplicate records is  0\n"
     ]
    }
   ],
   "source": [
    "print(\"No.of duplicate records is \",df.duplicated().sum())"
   ]
  },
  {
   "cell_type": "code",
   "execution_count": 100,
   "metadata": {},
   "outputs": [
    {
     "name": "stdout",
     "output_type": "stream",
     "text": [
      "age: \n",
      "\n",
      "[18 32 44 37 31 13 21 42 45 25 60 11 34 40 16 57 39 33 30 19 43 29 10 20\n",
      " 61 17 12 52 26 49 24 22 36 58 41 50 38 35 48 28 53 55 59 47 54 62 51 56\n",
      " 23 27 14 46 15 64 63]\n",
      "\n",
      "gender: \n",
      "\n",
      "[1 0]\n",
      "\n",
      "region_category: \n",
      "\n",
      "[1 2 3 0]\n",
      "\n",
      "membership_category: \n",
      "\n",
      "[1 2 3 4 5 6]\n",
      "\n",
      "joined_through_referral: \n",
      "\n",
      "[0 1]\n",
      "\n",
      "preferred_offer_types: \n",
      "\n",
      "[1 2 3 0]\n",
      "\n",
      "medium_of_operation: \n",
      "\n",
      "[3 1 2]\n",
      "\n",
      "internet_option: \n",
      "\n",
      "[1 2 3]\n",
      "\n",
      "days_since_last_login: \n",
      "\n",
      "[  17   16   14   11   20   23   10   19   15   13 -999    5   12    9\n",
      "   21   18    1   22    4    8    3    6    2   24    7   26   25]\n",
      "\n",
      "avg_time_spent: \n",
      "\n",
      "[ 300  306  516 ... -490 -347 1290]\n",
      "\n",
      "avg_transaction_value: \n",
      "\n",
      "[53005 12838 21027 ... 27277 11069 38127]\n",
      "\n",
      "used_special_discount: \n",
      "\n",
      "[1 0]\n",
      "\n",
      "offer_application_preference: \n",
      "\n",
      "[1 0]\n",
      "\n",
      "past_complaint: \n",
      "\n",
      "[0 1]\n",
      "\n",
      "complaint_status: \n",
      "\n",
      "[1 2 3 4 5]\n",
      "\n",
      "feedback: \n",
      "\n",
      "[1 2 3 4 5 6 7 8 9]\n",
      "\n",
      "churn_risk_score: \n",
      "\n",
      "[2 1 5 3 4]\n",
      "\n"
     ]
    }
   ],
   "source": [
    "for column in df.columns:\n",
    "    print(f\"{column}: \")\n",
    "    print(\"\")\n",
    "    print(df[column].unique())\n",
    "    print(\"\")"
   ]
  },
  {
   "cell_type": "code",
   "execution_count": 101,
   "metadata": {},
   "outputs": [],
   "source": [
    "df1['gender'] = df1['gender'].map({'F':1, 'M':0, 'Unknown':1})\n",
    "df1['region_category'] = df1['region_category'].map({'Village':1, 'City':2, 'Town':3})\n",
    "df1['membership_category'] = df1['membership_category'].map({'Platinum Membership':1, 'Premium Membership':2, 'No Membership':3,'Gold Membership':4, 'Silver Membership':5, 'Basic Membership':6})\n",
    "df1['joined_through_referral'] = df1['joined_through_referral'].map({'Yes':1, 'No':0, '?':1})\n",
    "df1['preferred_offer_types'] = df1['preferred_offer_types'].map({'Gift Vouchers/Coupons':1, 'Credit/Debit Card Offers':2, 'Without Offers':3})\n",
    "df1['medium_of_operation'] = df1['medium_of_operation'].map({'Desktop':1, 'Smartphone':2, 'Both':3, '?':3})\n",
    "df1['internet_option'] = df1['internet_option'].map({'Wi-Fi':1, 'Mobile_Data':2,'Fiber_Optic':3})\n",
    "df1['used_special_discount'] = df1['used_special_discount'].map({'Yes':1, 'No':0})\n",
    "df1['offer_application_preference'] = df1['offer_application_preference'].map({'Yes':1, 'No':0})\n",
    "df1['past_complaint'] = df1['past_complaint'].map({'Yes':1, 'No':0})\n",
    "df1['complaint_status'] = df1['complaint_status'].map({'Not Applicable':1, 'Solved':2, 'Solved in Follow-up':3, 'Unsolved':4, 'No Information Available':5})\n",
    "df1['feedback'] = df1['feedback'].map({'Products always in Stock':1, 'Quality Customer Care':2, 'Poor Website':3, 'No reason specified':4, 'Poor Product Quality':5, 'Poor Customer Service':6, 'Too many ads':7, 'User Friendly Website':8, 'Reasonable Price':9    })\n"
   ]
  },
  {
   "cell_type": "code",
   "execution_count": 102,
   "metadata": {},
   "outputs": [],
   "source": [
    "df1['region_category']=df1['region_category'].replace(np.nan,0)\n",
    "df1['preferred_offer_types']=df1['preferred_offer_types'].replace(np.nan,0)"
   ]
  },
  {
   "cell_type": "code",
   "execution_count": 103,
   "metadata": {},
   "outputs": [
    {
     "name": "stdout",
     "output_type": "stream",
     "text": [
      "<class 'pandas.core.frame.DataFrame'>\n",
      "RangeIndex: 19919 entries, 0 to 19918\n",
      "Data columns (total 24 columns):\n",
      " #   Column                        Non-Null Count  Dtype  \n",
      "---  ------                        --------------  -----  \n",
      " 0   customer_id                   19919 non-null  object \n",
      " 1   Name                          19919 non-null  object \n",
      " 2   age                           19919 non-null  int64  \n",
      " 3   gender                        19919 non-null  int64  \n",
      " 4   security_no                   19919 non-null  object \n",
      " 5   region_category               19919 non-null  float64\n",
      " 6   membership_category           19919 non-null  int64  \n",
      " 7   joining_date                  19919 non-null  object \n",
      " 8   joined_through_referral       19919 non-null  int64  \n",
      " 9   referral_id                   19919 non-null  object \n",
      " 10  preferred_offer_types         19919 non-null  float64\n",
      " 11  medium_of_operation           19919 non-null  int64  \n",
      " 12  internet_option               19919 non-null  int64  \n",
      " 13  last_visit_time               19919 non-null  object \n",
      " 14  days_since_last_login         19919 non-null  int64  \n",
      " 15  avg_time_spent                19919 non-null  float64\n",
      " 16  avg_transaction_value         19919 non-null  float64\n",
      " 17  avg_frequency_login_days      19919 non-null  object \n",
      " 18  points_in_wallet              17956 non-null  float64\n",
      " 19  used_special_discount         19919 non-null  int64  \n",
      " 20  offer_application_preference  19919 non-null  int64  \n",
      " 21  past_complaint                19919 non-null  int64  \n",
      " 22  complaint_status              19919 non-null  int64  \n",
      " 23  feedback                      19919 non-null  int64  \n",
      "dtypes: float64(5), int64(12), object(7)\n",
      "memory usage: 3.6+ MB\n"
     ]
    }
   ],
   "source": [
    "df1.info()"
   ]
  },
  {
   "cell_type": "code",
   "execution_count": 117,
   "metadata": {},
   "outputs": [],
   "source": []
  },
  {
   "cell_type": "code",
   "execution_count": 104,
   "metadata": {},
   "outputs": [],
   "source": [
    "df1 = df1.loc[:,[ 'age', 'gender', 'region_category', 'membership_category', 'joined_through_referral', 'preferred_offer_types', 'medium_of_operation',\n",
    "              'internet_option', 'days_since_last_login', 'avg_time_spent', 'avg_transaction_value', 'used_special_discount',\n",
    "              'offer_application_preference', 'past_complaint', 'complaint_status', 'feedback']]"
   ]
  },
  {
   "cell_type": "code",
   "execution_count": 105,
   "metadata": {},
   "outputs": [
    {
     "name": "stdout",
     "output_type": "stream",
     "text": [
      "<class 'pandas.core.frame.DataFrame'>\n",
      "RangeIndex: 19919 entries, 0 to 19918\n",
      "Data columns (total 16 columns):\n",
      " #   Column                        Non-Null Count  Dtype  \n",
      "---  ------                        --------------  -----  \n",
      " 0   age                           19919 non-null  int64  \n",
      " 1   gender                        19919 non-null  int64  \n",
      " 2   region_category               19919 non-null  float64\n",
      " 3   membership_category           19919 non-null  int64  \n",
      " 4   joined_through_referral       19919 non-null  int64  \n",
      " 5   preferred_offer_types         19919 non-null  float64\n",
      " 6   medium_of_operation           19919 non-null  int64  \n",
      " 7   internet_option               19919 non-null  int64  \n",
      " 8   days_since_last_login         19919 non-null  int64  \n",
      " 9   avg_time_spent                19919 non-null  float64\n",
      " 10  avg_transaction_value         19919 non-null  float64\n",
      " 11  used_special_discount         19919 non-null  int64  \n",
      " 12  offer_application_preference  19919 non-null  int64  \n",
      " 13  past_complaint                19919 non-null  int64  \n",
      " 14  complaint_status              19919 non-null  int64  \n",
      " 15  feedback                      19919 non-null  int64  \n",
      "dtypes: float64(4), int64(12)\n",
      "memory usage: 2.4 MB\n"
     ]
    }
   ],
   "source": [
    "df1.info()"
   ]
  },
  {
   "cell_type": "code",
   "execution_count": 106,
   "metadata": {},
   "outputs": [
    {
     "data": {
      "text/plain": [
       "0        40721.44\n",
       "1         9644.40\n",
       "2         3693.25\n",
       "3        36809.56\n",
       "4        40675.86\n",
       "           ...   \n",
       "19914    46279.35\n",
       "19915    23466.26\n",
       "19916    17903.75\n",
       "19917    14057.09\n",
       "19918    36786.44\n",
       "Name: avg_transaction_value, Length: 19919, dtype: float64"
      ]
     },
     "execution_count": 106,
     "metadata": {},
     "output_type": "execute_result"
    }
   ],
   "source": [
    "df1['avg_time_spent'].fillna(-1)\n",
    "df1['avg_transaction_value'].fillna(-1)"
   ]
  },
  {
   "cell_type": "code",
   "execution_count": null,
   "metadata": {},
   "outputs": [],
   "source": []
  },
  {
   "cell_type": "code",
   "execution_count": 110,
   "metadata": {},
   "outputs": [],
   "source": [
    "X1 = df1.drop(columns=['region_category','feedback','avg_time_spent']).values\n",
    "#X1 = df1.drop(columns=['region_category','avg_transaction_value','preferred_offer_types','feedback','avg_time_spent']).values"
   ]
  },
  {
   "cell_type": "code",
   "execution_count": 111,
   "metadata": {},
   "outputs": [],
   "source": [
    "from sklearn.preprocessing import StandardScaler\n",
    "scaler = StandardScaler()\n",
    "X1 = scaler.fit_transform(X1)"
   ]
  },
  {
   "cell_type": "code",
   "execution_count": 112,
   "metadata": {},
   "outputs": [],
   "source": [
    "y_pred_RF = clf4.predict(X1)"
   ]
  },
  {
   "cell_type": "code",
   "execution_count": 127,
   "metadata": {},
   "outputs": [],
   "source": [
    "df=pd.DataFrame(dict(customer_id = ID , churn_risk_score = y_pred_RF)).reset_index()\n",
    "df.drop('index', axis=1, inplace=True)\n",
    "\n",
    "df.to_csv('RFresult.csv', index=False)"
   ]
  },
  {
   "cell_type": "code",
   "execution_count": null,
   "metadata": {},
   "outputs": [],
   "source": []
  }
 ],
 "metadata": {
  "kernelspec": {
   "display_name": "Python 3",
   "language": "python",
   "name": "python3"
  },
  "language_info": {
   "codemirror_mode": {
    "name": "ipython",
    "version": 3
   },
   "file_extension": ".py",
   "mimetype": "text/x-python",
   "name": "python",
   "nbconvert_exporter": "python",
   "pygments_lexer": "ipython3",
   "version": "3.8.5"
  }
 },
 "nbformat": 4,
 "nbformat_minor": 4
}
